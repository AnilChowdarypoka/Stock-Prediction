{
 "cells": [
  {
   "cell_type": "markdown",
   "id": "17fa9a14",
   "metadata": {},
   "source": [
    "# Analysing samsung stocks data and working on classification models to predict them"
   ]
  },
  {
   "cell_type": "markdown",
   "id": "c5d68221",
   "metadata": {},
   "source": [
    "The primary goal of this study is to develop a models to classify to sell or buy the stocks of samsung \n",
    "\n",
    "We have used yahoo finance library to fetch data of samsung stocks data\n",
    "\n",
    "Machine Learning Models that are used in this project:\n",
    "-  K-Nearest Neighbors (KNN)\n",
    "- Random Forest Classifier (RF) \n",
    "- Gradient Boosting Classifier (GB) \n",
    "- Support Vector Machines (SVMs) \n",
    "- XGBoost Classifier\n",
    "\n",
    "Next day closing price; Golden Cross\n",
    "\n",
    "**Strategy 1:** : If the next trading day's close price is greater than today's close price then the signal \n",
    "is ‘buy’, otherwise ‘sell’\n",
    "\n",
    "**Strategy 2:** strategy_2: Utilize the 50-day moving average vs the 200-day moving average. A golden cross\n",
    "(or golden crossover) is a chart pattern that involves a short-term moving average crossing above \n",
    "a long-term moving average. Typically, the 50-day MA is used as the short-term average, and the \n",
    "200-day MA is used as the long-term average. This is an indicator of bullish (buying) signal. \n",
    "(See Figure 1 below) \n",
    "A death cross is basically the opposite of a golden cross. It’s a chart pattern where a short-term \n",
    "MA crosses below a long-term MA. For example, the 50-day MA crosses below the 200-day \n",
    "MA. As such, a death cross is typically considered to be a bearish (selling) signal.\n"
   ]
  },
  {
   "cell_type": "markdown",
   "id": "c81fa409",
   "metadata": {},
   "source": [
    "  Importing Libraries"
   ]
  },
  {
   "cell_type": "code",
   "execution_count": 1,
   "id": "b1b90849",
   "metadata": {},
   "outputs": [],
   "source": [
    "import yfinance as yf\n",
    "import pandas as pd\n",
    "import datetime\n",
    "import numpy as np\n",
    "from sklearn.model_selection import train_test_split\n",
    "\n",
    "from sklearn.ensemble import RandomForestClassifier\n",
    "from xgboost import XGBClassifier\n",
    "from sklearn.neighbors import KNeighborsClassifier\n",
    "from sklearn.ensemble import GradientBoostingClassifier\n",
    "from sklearn.svm import SVC\n",
    "\n",
    "from sklearn.metrics import mean_squared_error, f1_score , accuracy_score, classification_report ,recall_score,precision_score\n",
    "from matplotlib import pyplot as plt\n",
    " \n",
    "import warnings\n",
    "warnings.filterwarnings(\"ignore\")\n",
    "\n",
    "import seaborn as sns\n",
    "from sklearn.model_selection import GridSearchCV,RandomizedSearchCV\n"
   ]
  },
  {
   "cell_type": "markdown",
   "id": "683a45d8",
   "metadata": {},
   "source": [
    "Defining method to fetch stocks using ytfinance library"
   ]
  },
  {
   "cell_type": "code",
   "execution_count": 2,
   "id": "295d0e9a",
   "metadata": {},
   "outputs": [
    {
     "name": "stdout",
     "output_type": "stream",
     "text": [
      "Fetching Samsung stocks data from 2015-01-01 to 2023-10-05\n",
      "[*********************100%%**********************]  1 of 1 completed\n"
     ]
    }
   ],
   "source": [
    "def fetch_stocks(stock_name, ticker ,start_date,end_date):\n",
    "    try:\n",
    "        print(f\"Fetching {stock_name} stocks data from {start_date} to {end_date}\")\n",
    "        data = yf.download(ticker, start=start_date, end=end_date)\n",
    "        return data\n",
    "    except Exception as e:\n",
    "        print(f\"Error occured while fetching stock data : {e}\")\n",
    "\n",
    "samsung_ticker = \"005930.KS\"  \n",
    "start_date = \"2015-01-01\"\n",
    "end_date = datetime.datetime.today().date() \n",
    "\n",
    "stocks_data = fetch_stocks(\"Samsung\",samsung_ticker , start_date,end_date )\n",
    "\n",
    "\n"
   ]
  },
  {
   "cell_type": "markdown",
   "id": "a10bf29e",
   "metadata": {},
   "source": [
    "Visualizing data"
   ]
  },
  {
   "cell_type": "code",
   "execution_count": 3,
   "id": "c0222a86",
   "metadata": {},
   "outputs": [
    {
     "data": {
      "text/html": [
       "<div>\n",
       "<style scoped>\n",
       "    .dataframe tbody tr th:only-of-type {\n",
       "        vertical-align: middle;\n",
       "    }\n",
       "\n",
       "    .dataframe tbody tr th {\n",
       "        vertical-align: top;\n",
       "    }\n",
       "\n",
       "    .dataframe thead th {\n",
       "        text-align: right;\n",
       "    }\n",
       "</style>\n",
       "<table border=\"1\" class=\"dataframe\">\n",
       "  <thead>\n",
       "    <tr style=\"text-align: right;\">\n",
       "      <th></th>\n",
       "      <th>Open</th>\n",
       "      <th>High</th>\n",
       "      <th>Low</th>\n",
       "      <th>Close</th>\n",
       "      <th>Adj Close</th>\n",
       "      <th>Volume</th>\n",
       "    </tr>\n",
       "    <tr>\n",
       "      <th>Date</th>\n",
       "      <th></th>\n",
       "      <th></th>\n",
       "      <th></th>\n",
       "      <th></th>\n",
       "      <th></th>\n",
       "      <th></th>\n",
       "    </tr>\n",
       "  </thead>\n",
       "  <tbody>\n",
       "    <tr>\n",
       "      <th>2015-01-02</th>\n",
       "      <td>26800.0</td>\n",
       "      <td>26800.0</td>\n",
       "      <td>26540.0</td>\n",
       "      <td>26600.0</td>\n",
       "      <td>21567.841797</td>\n",
       "      <td>8774950</td>\n",
       "    </tr>\n",
       "    <tr>\n",
       "      <th>2015-01-05</th>\n",
       "      <td>26720.0</td>\n",
       "      <td>26720.0</td>\n",
       "      <td>26260.0</td>\n",
       "      <td>26660.0</td>\n",
       "      <td>21616.490234</td>\n",
       "      <td>10139500</td>\n",
       "    </tr>\n",
       "    <tr>\n",
       "      <th>2015-01-06</th>\n",
       "      <td>26300.0</td>\n",
       "      <td>26340.0</td>\n",
       "      <td>25760.0</td>\n",
       "      <td>25900.0</td>\n",
       "      <td>21000.267578</td>\n",
       "      <td>15235500</td>\n",
       "    </tr>\n",
       "    <tr>\n",
       "      <th>2015-01-07</th>\n",
       "      <td>25880.0</td>\n",
       "      <td>26220.0</td>\n",
       "      <td>25640.0</td>\n",
       "      <td>26140.0</td>\n",
       "      <td>21194.861328</td>\n",
       "      <td>14322750</td>\n",
       "    </tr>\n",
       "    <tr>\n",
       "      <th>2015-01-08</th>\n",
       "      <td>26780.0</td>\n",
       "      <td>26780.0</td>\n",
       "      <td>26200.0</td>\n",
       "      <td>26280.0</td>\n",
       "      <td>21308.375000</td>\n",
       "      <td>14477600</td>\n",
       "    </tr>\n",
       "  </tbody>\n",
       "</table>\n",
       "</div>"
      ],
      "text/plain": [
       "               Open     High      Low    Close     Adj Close    Volume\n",
       "Date                                                                  \n",
       "2015-01-02  26800.0  26800.0  26540.0  26600.0  21567.841797   8774950\n",
       "2015-01-05  26720.0  26720.0  26260.0  26660.0  21616.490234  10139500\n",
       "2015-01-06  26300.0  26340.0  25760.0  25900.0  21000.267578  15235500\n",
       "2015-01-07  25880.0  26220.0  25640.0  26140.0  21194.861328  14322750\n",
       "2015-01-08  26780.0  26780.0  26200.0  26280.0  21308.375000  14477600"
      ]
     },
     "execution_count": 3,
     "metadata": {},
     "output_type": "execute_result"
    }
   ],
   "source": [
    "stocks_data.head()"
   ]
  },
  {
   "cell_type": "code",
   "execution_count": 4,
   "id": "33751140",
   "metadata": {},
   "outputs": [
    {
     "data": {
      "text/html": [
       "<div>\n",
       "<style scoped>\n",
       "    .dataframe tbody tr th:only-of-type {\n",
       "        vertical-align: middle;\n",
       "    }\n",
       "\n",
       "    .dataframe tbody tr th {\n",
       "        vertical-align: top;\n",
       "    }\n",
       "\n",
       "    .dataframe thead th {\n",
       "        text-align: right;\n",
       "    }\n",
       "</style>\n",
       "<table border=\"1\" class=\"dataframe\">\n",
       "  <thead>\n",
       "    <tr style=\"text-align: right;\">\n",
       "      <th></th>\n",
       "      <th>Open</th>\n",
       "      <th>High</th>\n",
       "      <th>Low</th>\n",
       "      <th>Close</th>\n",
       "      <th>Adj Close</th>\n",
       "      <th>Volume</th>\n",
       "    </tr>\n",
       "    <tr>\n",
       "      <th>Date</th>\n",
       "      <th></th>\n",
       "      <th></th>\n",
       "      <th></th>\n",
       "      <th></th>\n",
       "      <th></th>\n",
       "      <th></th>\n",
       "    </tr>\n",
       "  </thead>\n",
       "  <tbody>\n",
       "    <tr>\n",
       "      <th>2023-09-22</th>\n",
       "      <td>68300.0</td>\n",
       "      <td>68900.0</td>\n",
       "      <td>68300.0</td>\n",
       "      <td>68800.0</td>\n",
       "      <td>68800.0</td>\n",
       "      <td>9897840</td>\n",
       "    </tr>\n",
       "    <tr>\n",
       "      <th>2023-09-25</th>\n",
       "      <td>68500.0</td>\n",
       "      <td>69700.0</td>\n",
       "      <td>68500.0</td>\n",
       "      <td>69400.0</td>\n",
       "      <td>69400.0</td>\n",
       "      <td>13582516</td>\n",
       "    </tr>\n",
       "    <tr>\n",
       "      <th>2023-09-26</th>\n",
       "      <td>70000.0</td>\n",
       "      <td>70000.0</td>\n",
       "      <td>68400.0</td>\n",
       "      <td>68600.0</td>\n",
       "      <td>68600.0</td>\n",
       "      <td>13143470</td>\n",
       "    </tr>\n",
       "    <tr>\n",
       "      <th>2023-09-27</th>\n",
       "      <td>68600.0</td>\n",
       "      <td>69100.0</td>\n",
       "      <td>68200.0</td>\n",
       "      <td>68400.0</td>\n",
       "      <td>68400.0</td>\n",
       "      <td>14886491</td>\n",
       "    </tr>\n",
       "    <tr>\n",
       "      <th>2023-10-04</th>\n",
       "      <td>67400.0</td>\n",
       "      <td>67700.0</td>\n",
       "      <td>66700.0</td>\n",
       "      <td>67500.0</td>\n",
       "      <td>67500.0</td>\n",
       "      <td>23361149</td>\n",
       "    </tr>\n",
       "  </tbody>\n",
       "</table>\n",
       "</div>"
      ],
      "text/plain": [
       "               Open     High      Low    Close  Adj Close    Volume\n",
       "Date                                                               \n",
       "2023-09-22  68300.0  68900.0  68300.0  68800.0    68800.0   9897840\n",
       "2023-09-25  68500.0  69700.0  68500.0  69400.0    69400.0  13582516\n",
       "2023-09-26  70000.0  70000.0  68400.0  68600.0    68600.0  13143470\n",
       "2023-09-27  68600.0  69100.0  68200.0  68400.0    68400.0  14886491\n",
       "2023-10-04  67400.0  67700.0  66700.0  67500.0    67500.0  23361149"
      ]
     },
     "execution_count": 4,
     "metadata": {},
     "output_type": "execute_result"
    }
   ],
   "source": [
    "stocks_data.tail()"
   ]
  },
  {
   "cell_type": "code",
   "execution_count": 5,
   "id": "ad27f58a",
   "metadata": {},
   "outputs": [
    {
     "data": {
      "text/plain": [
       "(2152, 6)"
      ]
     },
     "execution_count": 5,
     "metadata": {},
     "output_type": "execute_result"
    }
   ],
   "source": [
    "stocks_data.shape"
   ]
  },
  {
   "cell_type": "markdown",
   "id": "767a1b1e",
   "metadata": {},
   "source": [
    "Cleaning data"
   ]
  },
  {
   "cell_type": "code",
   "execution_count": 6,
   "id": "d65479bc",
   "metadata": {},
   "outputs": [],
   "source": [
    "stocks_data = stocks_data.rename({\"Adj Close\" : \"adj_close\" , \"Open\" : \"open\" , \"Close\":\"close\" , \"Volume\" : \"volume\"}, axis = 1)"
   ]
  },
  {
   "cell_type": "code",
   "execution_count": 7,
   "id": "67a86c54",
   "metadata": {},
   "outputs": [],
   "source": [
    "def remove_unwanted_columns(data  , column):\n",
    "    for i in column :\n",
    "        if i in data.columns:\n",
    "            data.drop( i, axis = 1, inplace = True)\n",
    "\n",
    "remove_unwanted_columns(stocks_data , [\"High\" , \"Low\", \"close\"])"
   ]
  },
  {
   "cell_type": "code",
   "execution_count": 8,
   "id": "3c373b4a",
   "metadata": {},
   "outputs": [],
   "source": [
    "stocks_data_2 = stocks_data.copy()"
   ]
  },
  {
   "cell_type": "code",
   "execution_count": 9,
   "id": "f652d281",
   "metadata": {},
   "outputs": [
    {
     "data": {
      "text/plain": [
       "{'open': 0, 'adj_close': 0, 'volume': 0}"
      ]
     },
     "execution_count": 9,
     "metadata": {},
     "output_type": "execute_result"
    }
   ],
   "source": [
    "def return_null_value_summary(data):\n",
    "    return data.isnull().sum().to_dict()\n",
    "\n",
    "def delete_null_values(data):\n",
    "    data.dropna(inplace=True)\n",
    "    \n",
    "return_null_value_summary(stocks_data)"
   ]
  },
  {
   "cell_type": "markdown",
   "id": "8b9e69e6",
   "metadata": {},
   "source": [
    "Working on startegy - 1 logic"
   ]
  },
  {
   "cell_type": "code",
   "execution_count": 10,
   "id": "0f893cbf",
   "metadata": {},
   "outputs": [],
   "source": [
    "stocks_data['signal'] =  (np.where(stocks_data['adj_close'].shift(-1) > stocks_data['adj_close'], 1, 0))\n",
    "stocks_data['stock_signal'] =  (np.where(stocks_data['adj_close'].shift(-1) > stocks_data['adj_close'], 1, -1))\n",
    "\n",
    "stocks_data['moving_avg'] = stocks_data['adj_close'].rolling(window=10).mean()\n"
   ]
  },
  {
   "cell_type": "code",
   "execution_count": 11,
   "id": "70dcd9f9",
   "metadata": {},
   "outputs": [
    {
     "data": {
      "text/plain": [
       "{'open': 0,\n",
       " 'adj_close': 0,\n",
       " 'volume': 0,\n",
       " 'signal': 0,\n",
       " 'stock_signal': 0,\n",
       " 'moving_avg': 0}"
      ]
     },
     "execution_count": 11,
     "metadata": {},
     "output_type": "execute_result"
    }
   ],
   "source": [
    "delete_null_values(stocks_data)\n",
    "return_null_value_summary(stocks_data)"
   ]
  },
  {
   "cell_type": "markdown",
   "id": "6fb5a2d7",
   "metadata": {},
   "source": [
    "Viewing data after adding columns"
   ]
  },
  {
   "cell_type": "code",
   "execution_count": 12,
   "id": "03db1bc3",
   "metadata": {},
   "outputs": [
    {
     "data": {
      "text/html": [
       "<div>\n",
       "<style scoped>\n",
       "    .dataframe tbody tr th:only-of-type {\n",
       "        vertical-align: middle;\n",
       "    }\n",
       "\n",
       "    .dataframe tbody tr th {\n",
       "        vertical-align: top;\n",
       "    }\n",
       "\n",
       "    .dataframe thead th {\n",
       "        text-align: right;\n",
       "    }\n",
       "</style>\n",
       "<table border=\"1\" class=\"dataframe\">\n",
       "  <thead>\n",
       "    <tr style=\"text-align: right;\">\n",
       "      <th></th>\n",
       "      <th>open</th>\n",
       "      <th>adj_close</th>\n",
       "      <th>volume</th>\n",
       "      <th>signal</th>\n",
       "      <th>stock_signal</th>\n",
       "      <th>moving_avg</th>\n",
       "    </tr>\n",
       "    <tr>\n",
       "      <th>Date</th>\n",
       "      <th></th>\n",
       "      <th></th>\n",
       "      <th></th>\n",
       "      <th></th>\n",
       "      <th></th>\n",
       "      <th></th>\n",
       "    </tr>\n",
       "  </thead>\n",
       "  <tbody>\n",
       "    <tr>\n",
       "      <th>2015-01-15</th>\n",
       "      <td>26900.0</td>\n",
       "      <td>21632.707031</td>\n",
       "      <td>14103900</td>\n",
       "      <td>0</td>\n",
       "      <td>-1</td>\n",
       "      <td>21449.460352</td>\n",
       "    </tr>\n",
       "    <tr>\n",
       "      <th>2015-01-16</th>\n",
       "      <td>26680.0</td>\n",
       "      <td>21340.806641</td>\n",
       "      <td>13568500</td>\n",
       "      <td>1</td>\n",
       "      <td>1</td>\n",
       "      <td>21426.756836</td>\n",
       "    </tr>\n",
       "    <tr>\n",
       "      <th>2015-01-19</th>\n",
       "      <td>26580.0</td>\n",
       "      <td>21778.648438</td>\n",
       "      <td>6672950</td>\n",
       "      <td>1</td>\n",
       "      <td>1</td>\n",
       "      <td>21442.972656</td>\n",
       "    </tr>\n",
       "    <tr>\n",
       "      <th>2015-01-20</th>\n",
       "      <td>27000.0</td>\n",
       "      <td>22248.935547</td>\n",
       "      <td>13278050</td>\n",
       "      <td>1</td>\n",
       "      <td>1</td>\n",
       "      <td>21567.839453</td>\n",
       "    </tr>\n",
       "    <tr>\n",
       "      <th>2015-01-21</th>\n",
       "      <td>27340.0</td>\n",
       "      <td>22621.908203</td>\n",
       "      <td>16612650</td>\n",
       "      <td>0</td>\n",
       "      <td>-1</td>\n",
       "      <td>21710.544141</td>\n",
       "    </tr>\n",
       "  </tbody>\n",
       "</table>\n",
       "</div>"
      ],
      "text/plain": [
       "               open     adj_close    volume  signal  stock_signal  \\\n",
       "Date                                                                \n",
       "2015-01-15  26900.0  21632.707031  14103900       0            -1   \n",
       "2015-01-16  26680.0  21340.806641  13568500       1             1   \n",
       "2015-01-19  26580.0  21778.648438   6672950       1             1   \n",
       "2015-01-20  27000.0  22248.935547  13278050       1             1   \n",
       "2015-01-21  27340.0  22621.908203  16612650       0            -1   \n",
       "\n",
       "              moving_avg  \n",
       "Date                      \n",
       "2015-01-15  21449.460352  \n",
       "2015-01-16  21426.756836  \n",
       "2015-01-19  21442.972656  \n",
       "2015-01-20  21567.839453  \n",
       "2015-01-21  21710.544141  "
      ]
     },
     "execution_count": 12,
     "metadata": {},
     "output_type": "execute_result"
    }
   ],
   "source": [
    "stocks_data.head()"
   ]
  },
  {
   "cell_type": "code",
   "execution_count": 13,
   "id": "d0abbbf4",
   "metadata": {},
   "outputs": [
    {
     "data": {
      "text/html": [
       "<div>\n",
       "<style scoped>\n",
       "    .dataframe tbody tr th:only-of-type {\n",
       "        vertical-align: middle;\n",
       "    }\n",
       "\n",
       "    .dataframe tbody tr th {\n",
       "        vertical-align: top;\n",
       "    }\n",
       "\n",
       "    .dataframe thead th {\n",
       "        text-align: right;\n",
       "    }\n",
       "</style>\n",
       "<table border=\"1\" class=\"dataframe\">\n",
       "  <thead>\n",
       "    <tr style=\"text-align: right;\">\n",
       "      <th></th>\n",
       "      <th>open</th>\n",
       "      <th>adj_close</th>\n",
       "      <th>volume</th>\n",
       "      <th>signal</th>\n",
       "      <th>stock_signal</th>\n",
       "      <th>moving_avg</th>\n",
       "    </tr>\n",
       "    <tr>\n",
       "      <th>Date</th>\n",
       "      <th></th>\n",
       "      <th></th>\n",
       "      <th></th>\n",
       "      <th></th>\n",
       "      <th></th>\n",
       "      <th></th>\n",
       "    </tr>\n",
       "  </thead>\n",
       "  <tbody>\n",
       "    <tr>\n",
       "      <th>2023-09-22</th>\n",
       "      <td>68300.0</td>\n",
       "      <td>68800.0</td>\n",
       "      <td>9897840</td>\n",
       "      <td>1</td>\n",
       "      <td>1</td>\n",
       "      <td>70320.0</td>\n",
       "    </tr>\n",
       "    <tr>\n",
       "      <th>2023-09-25</th>\n",
       "      <td>68500.0</td>\n",
       "      <td>69400.0</td>\n",
       "      <td>13582516</td>\n",
       "      <td>0</td>\n",
       "      <td>-1</td>\n",
       "      <td>70180.0</td>\n",
       "    </tr>\n",
       "    <tr>\n",
       "      <th>2023-09-26</th>\n",
       "      <td>70000.0</td>\n",
       "      <td>68600.0</td>\n",
       "      <td>13143470</td>\n",
       "      <td>0</td>\n",
       "      <td>-1</td>\n",
       "      <td>69990.0</td>\n",
       "    </tr>\n",
       "    <tr>\n",
       "      <th>2023-09-27</th>\n",
       "      <td>68600.0</td>\n",
       "      <td>68400.0</td>\n",
       "      <td>14886491</td>\n",
       "      <td>0</td>\n",
       "      <td>-1</td>\n",
       "      <td>69740.0</td>\n",
       "    </tr>\n",
       "    <tr>\n",
       "      <th>2023-10-04</th>\n",
       "      <td>67400.0</td>\n",
       "      <td>67500.0</td>\n",
       "      <td>23361149</td>\n",
       "      <td>0</td>\n",
       "      <td>-1</td>\n",
       "      <td>69320.0</td>\n",
       "    </tr>\n",
       "  </tbody>\n",
       "</table>\n",
       "</div>"
      ],
      "text/plain": [
       "               open  adj_close    volume  signal  stock_signal  moving_avg\n",
       "Date                                                                      \n",
       "2023-09-22  68300.0    68800.0   9897840       1             1     70320.0\n",
       "2023-09-25  68500.0    69400.0  13582516       0            -1     70180.0\n",
       "2023-09-26  70000.0    68600.0  13143470       0            -1     69990.0\n",
       "2023-09-27  68600.0    68400.0  14886491       0            -1     69740.0\n",
       "2023-10-04  67400.0    67500.0  23361149       0            -1     69320.0"
      ]
     },
     "execution_count": 13,
     "metadata": {},
     "output_type": "execute_result"
    }
   ],
   "source": [
    "stocks_data.tail()"
   ]
  },
  {
   "cell_type": "markdown",
   "id": "8afa8b76",
   "metadata": {},
   "source": [
    "Defining methods to split data and initilize classification models and evulate them "
   ]
  },
  {
   "cell_type": "code",
   "execution_count": 14,
   "id": "03ef0baa",
   "metadata": {},
   "outputs": [],
   "source": [
    "def split_data(feature , dependent,  random_state = 20):\n",
    "    X_train, X_test, Y_train, Y_test = train_test_split(\n",
    "                                    feature,  dependent,  test_size = 0.2 ,  random_state = random_state)\n",
    "    print(f\"Train and test data shapes {X_train.shape} , {X_test.shape}\" , end = \"\\n\\n\")\n",
    "    return X_train, X_test, Y_train, Y_test"
   ]
  },
  {
   "cell_type": "code",
   "execution_count": 15,
   "id": "caa5c324",
   "metadata": {},
   "outputs": [],
   "source": [
    "def initilize_classification_models():\n",
    "    random_forest_classifier = RandomForestClassifier(n_estimators=100, random_state=42,max_depth = 9, criterion = \"gini\")\n",
    "    xg_boost_classifier = XGBClassifier(base_score=0.5, booster='gbtree',learning_rate=1)\n",
    "    knn_classifier = KNeighborsClassifier(n_neighbors=3)\n",
    "    gb_classifier = GradientBoostingClassifier(n_estimators=100, learning_rate=0.1, random_state=42)\n",
    "    svm_classifier = SVC()\n",
    "\n",
    "\n",
    "    return  random_forest_classifier , xg_boost_classifier , knn_classifier , gb_classifier,svm_classifier\n",
    "\n",
    "random_forest_classifier , xg_boost_classifier , knn_classifier , gb_classifier,svm_classifier = initilize_classification_models()\n",
    "final_data_frame = pd.DataFrame()"
   ]
  },
  {
   "cell_type": "code",
   "execution_count": 16,
   "id": "11b26a0e",
   "metadata": {},
   "outputs": [],
   "source": [
    "def evaluate_classification(model, X_train, X_test, Y_train, Y_test  ):\n",
    "    model.fit(X_train,Y_train)\n",
    "    predictions = model.predict(X_test)\n",
    "    accuracy = accuracy_score(Y_test, predictions)\n",
    "    recallscore = recall_score(Y_test, predictions,average='micro')\n",
    "    precision = precision_score(Y_test, predictions, average='micro')\n",
    "    f1score = f1_score(Y_test, predictions , average='micro') \n",
    "    df = pd.DataFrame({\"Model\"           : [type(model).__name__],\n",
    "                       \"Accuracy\"        : [accuracy],\n",
    "                       \"Recall\"          : [recallscore],\n",
    "                       \"Precision\"       : [precision],\n",
    "                       \"f1-score\"        : [f1score],\n",
    "                      })\n",
    "    return df.reset_index(drop = True) \n",
    "\n"
   ]
  },
  {
   "cell_type": "markdown",
   "id": "5e2bb44f",
   "metadata": {},
   "source": [
    "Plotting heat maps to identify corelation between two attributes"
   ]
  },
  {
   "cell_type": "code",
   "execution_count": 17,
   "id": "24b7f5dc",
   "metadata": {},
   "outputs": [
    {
     "data": {
      "image/png": "[encoded data removed]",
      "text/plain": [
       "<Figure size 1800x800 with 2 Axes>"
      ]
     },
     "metadata": {},
     "output_type": "display_data"
    }
   ],
   "source": [
    "plt.subplots(figsize = ([18,8]))\n",
    "sns.heatmap(stocks_data.corr(), annot=True, cmap=\"Greens\")\n",
    "plt.show()"
   ]
  },
  {
   "cell_type": "markdown",
   "id": "0df3ca4d",
   "metadata": {},
   "source": [
    "spliting data frame"
   ]
  },
  {
   "cell_type": "code",
   "execution_count": 18,
   "id": "06568d55",
   "metadata": {},
   "outputs": [
    {
     "name": "stdout",
     "output_type": "stream",
     "text": [
      "Train and test data shapes (1714, 4) , (429, 4)\n",
      "\n"
     ]
    }
   ],
   "source": [
    "feature_columns = ['open', 'adj_close', 'volume', 'moving_avg']\n",
    "dependent_column = ['signal']\n",
    "X_train, X_test, y_train, y_test  = split_data(stocks_data[feature_columns] , stocks_data[dependent_column])"
   ]
  },
  {
   "cell_type": "markdown",
   "id": "9e084b2e",
   "metadata": {},
   "source": [
    "Evaluating model"
   ]
  },
  {
   "cell_type": "code",
   "execution_count": 19,
   "id": "460bc748",
   "metadata": {},
   "outputs": [],
   "source": [
    "final_dataframe = pd.DataFrame()  \n",
    "final_dataframe = final_dataframe.append(evaluate_classification(random_forest_classifier,X_train, X_test, y_train, y_test ),ignore_index = True)\n",
    "final_dataframe = final_dataframe.append(evaluate_classification(xg_boost_classifier,X_train, X_test, y_train, y_test  ),ignore_index = True)\n",
    "final_dataframe = final_dataframe.append(evaluate_classification(knn_classifier,X_train, X_test, y_train, y_test  ),ignore_index = True)\n",
    "final_dataframe = final_dataframe.append(evaluate_classification(gb_classifier,X_train, X_test, y_train, y_test  ),ignore_index = True)\n",
    "final_dataframe = final_dataframe.append(evaluate_classification(svm_classifier,X_train, X_test, y_train, y_test  ),ignore_index = True)"
   ]
  },
  {
   "cell_type": "code",
   "execution_count": 20,
   "id": "49508dca",
   "metadata": {},
   "outputs": [
    {
     "data": {
      "text/html": [
       "<div>\n",
       "<style scoped>\n",
       "    .dataframe tbody tr th:only-of-type {\n",
       "        vertical-align: middle;\n",
       "    }\n",
       "\n",
       "    .dataframe tbody tr th {\n",
       "        vertical-align: top;\n",
       "    }\n",
       "\n",
       "    .dataframe thead th {\n",
       "        text-align: right;\n",
       "    }\n",
       "</style>\n",
       "<table border=\"1\" class=\"dataframe\">\n",
       "  <thead>\n",
       "    <tr style=\"text-align: right;\">\n",
       "      <th></th>\n",
       "      <th>Model</th>\n",
       "      <th>Accuracy</th>\n",
       "      <th>Recall</th>\n",
       "      <th>Precision</th>\n",
       "      <th>f1-score</th>\n",
       "    </tr>\n",
       "  </thead>\n",
       "  <tbody>\n",
       "    <tr>\n",
       "      <th>0</th>\n",
       "      <td>RandomForestClassifier</td>\n",
       "      <td>0.531469</td>\n",
       "      <td>0.531469</td>\n",
       "      <td>0.531469</td>\n",
       "      <td>0.531469</td>\n",
       "    </tr>\n",
       "    <tr>\n",
       "      <th>1</th>\n",
       "      <td>XGBClassifier</td>\n",
       "      <td>0.529138</td>\n",
       "      <td>0.529138</td>\n",
       "      <td>0.529138</td>\n",
       "      <td>0.529138</td>\n",
       "    </tr>\n",
       "    <tr>\n",
       "      <th>2</th>\n",
       "      <td>KNeighborsClassifier</td>\n",
       "      <td>0.496503</td>\n",
       "      <td>0.496503</td>\n",
       "      <td>0.496503</td>\n",
       "      <td>0.496503</td>\n",
       "    </tr>\n",
       "    <tr>\n",
       "      <th>3</th>\n",
       "      <td>GradientBoostingClassifier</td>\n",
       "      <td>0.510490</td>\n",
       "      <td>0.510490</td>\n",
       "      <td>0.510490</td>\n",
       "      <td>0.510490</td>\n",
       "    </tr>\n",
       "    <tr>\n",
       "      <th>4</th>\n",
       "      <td>SVC</td>\n",
       "      <td>0.477855</td>\n",
       "      <td>0.477855</td>\n",
       "      <td>0.477855</td>\n",
       "      <td>0.477855</td>\n",
       "    </tr>\n",
       "  </tbody>\n",
       "</table>\n",
       "</div>"
      ],
      "text/plain": [
       "                        Model  Accuracy    Recall  Precision  f1-score\n",
       "0      RandomForestClassifier  0.531469  0.531469   0.531469  0.531469\n",
       "1               XGBClassifier  0.529138  0.529138   0.529138  0.529138\n",
       "2        KNeighborsClassifier  0.496503  0.496503   0.496503  0.496503\n",
       "3  GradientBoostingClassifier  0.510490  0.510490   0.510490  0.510490\n",
       "4                         SVC  0.477855  0.477855   0.477855  0.477855"
      ]
     },
     "execution_count": 20,
     "metadata": {},
     "output_type": "execute_result"
    }
   ],
   "source": [
    "final_dataframe"
   ]
  },
  {
   "cell_type": "markdown",
   "id": "397ff80c",
   "metadata": {},
   "source": [
    "From the above dataframe we can identify Random forest is the best model to fit our data and classify "
   ]
  },
  {
   "cell_type": "markdown",
   "id": "a193f171",
   "metadata": {},
   "source": [
    "# Startegy - 2 "
   ]
  },
  {
   "cell_type": "code",
   "execution_count": 21,
   "id": "358bfa48",
   "metadata": {},
   "outputs": [
    {
     "data": {
      "text/html": [
       "<div>\n",
       "<style scoped>\n",
       "    .dataframe tbody tr th:only-of-type {\n",
       "        vertical-align: middle;\n",
       "    }\n",
       "\n",
       "    .dataframe tbody tr th {\n",
       "        vertical-align: top;\n",
       "    }\n",
       "\n",
       "    .dataframe thead th {\n",
       "        text-align: right;\n",
       "    }\n",
       "</style>\n",
       "<table border=\"1\" class=\"dataframe\">\n",
       "  <thead>\n",
       "    <tr style=\"text-align: right;\">\n",
       "      <th></th>\n",
       "      <th>open</th>\n",
       "      <th>adj_close</th>\n",
       "      <th>volume</th>\n",
       "    </tr>\n",
       "    <tr>\n",
       "      <th>Date</th>\n",
       "      <th></th>\n",
       "      <th></th>\n",
       "      <th></th>\n",
       "    </tr>\n",
       "  </thead>\n",
       "  <tbody>\n",
       "    <tr>\n",
       "      <th>2015-01-02</th>\n",
       "      <td>26800.0</td>\n",
       "      <td>21567.841797</td>\n",
       "      <td>8774950</td>\n",
       "    </tr>\n",
       "    <tr>\n",
       "      <th>2015-01-05</th>\n",
       "      <td>26720.0</td>\n",
       "      <td>21616.490234</td>\n",
       "      <td>10139500</td>\n",
       "    </tr>\n",
       "    <tr>\n",
       "      <th>2015-01-06</th>\n",
       "      <td>26300.0</td>\n",
       "      <td>21000.267578</td>\n",
       "      <td>15235500</td>\n",
       "    </tr>\n",
       "    <tr>\n",
       "      <th>2015-01-07</th>\n",
       "      <td>25880.0</td>\n",
       "      <td>21194.861328</td>\n",
       "      <td>14322750</td>\n",
       "    </tr>\n",
       "    <tr>\n",
       "      <th>2015-01-08</th>\n",
       "      <td>26780.0</td>\n",
       "      <td>21308.375000</td>\n",
       "      <td>14477600</td>\n",
       "    </tr>\n",
       "  </tbody>\n",
       "</table>\n",
       "</div>"
      ],
      "text/plain": [
       "               open     adj_close    volume\n",
       "Date                                       \n",
       "2015-01-02  26800.0  21567.841797   8774950\n",
       "2015-01-05  26720.0  21616.490234  10139500\n",
       "2015-01-06  26300.0  21000.267578  15235500\n",
       "2015-01-07  25880.0  21194.861328  14322750\n",
       "2015-01-08  26780.0  21308.375000  14477600"
      ]
     },
     "execution_count": 21,
     "metadata": {},
     "output_type": "execute_result"
    }
   ],
   "source": [
    "stocks_data_2.head()"
   ]
  },
  {
   "cell_type": "markdown",
   "id": "c699365f",
   "metadata": {},
   "source": [
    "adding moving averages to implement startegy 2"
   ]
  },
  {
   "cell_type": "code",
   "execution_count": 22,
   "id": "108e1af3",
   "metadata": {},
   "outputs": [
    {
     "name": "stdout",
     "output_type": "stream",
     "text": [
      "{'open': 0, 'adj_close': 0, 'volume': 0, '50DaySMA': 49, '200DaySMA': 199, 'signal': 0, 'stock_signal': 0}\n"
     ]
    }
   ],
   "source": [
    "stocks_data_2['50DaySMA'] = stocks_data_2['adj_close'].rolling(window=50).mean()\n",
    "stocks_data_2['200DaySMA'] = stocks_data_2['adj_close'].rolling(window=200).mean()\n",
    "\n",
    "stocks_data_2['signal'] = np.where(stocks_data_2['50DaySMA'] > stocks_data_2['200DaySMA'], 1, 0)\n",
    "stocks_data_2['stock_signal'] = np.where(stocks_data_2['50DaySMA'] > stocks_data_2['200DaySMA'], 1, -1)\n",
    "\n",
    "\n",
    "print(return_null_value_summary(stocks_data_2))\n",
    "delete_null_values(stocks_data_2)\n",
    "\n"
   ]
  },
  {
   "cell_type": "code",
   "execution_count": 23,
   "id": "485506d9",
   "metadata": {},
   "outputs": [
    {
     "data": {
      "text/plain": [
       "{'open': 0,\n",
       " 'adj_close': 0,\n",
       " 'volume': 0,\n",
       " '50DaySMA': 0,\n",
       " '200DaySMA': 0,\n",
       " 'signal': 0,\n",
       " 'stock_signal': 0}"
      ]
     },
     "execution_count": 23,
     "metadata": {},
     "output_type": "execute_result"
    }
   ],
   "source": [
    "return_null_value_summary(stocks_data_2)\n"
   ]
  },
  {
   "cell_type": "code",
   "execution_count": 24,
   "id": "cf7361d9",
   "metadata": {},
   "outputs": [
    {
     "data": {
      "text/html": [
       "<div>\n",
       "<style scoped>\n",
       "    .dataframe tbody tr th:only-of-type {\n",
       "        vertical-align: middle;\n",
       "    }\n",
       "\n",
       "    .dataframe tbody tr th {\n",
       "        vertical-align: top;\n",
       "    }\n",
       "\n",
       "    .dataframe thead th {\n",
       "        text-align: right;\n",
       "    }\n",
       "</style>\n",
       "<table border=\"1\" class=\"dataframe\">\n",
       "  <thead>\n",
       "    <tr style=\"text-align: right;\">\n",
       "      <th></th>\n",
       "      <th>open</th>\n",
       "      <th>adj_close</th>\n",
       "      <th>volume</th>\n",
       "      <th>50DaySMA</th>\n",
       "      <th>200DaySMA</th>\n",
       "      <th>signal</th>\n",
       "      <th>stock_signal</th>\n",
       "    </tr>\n",
       "    <tr>\n",
       "      <th>Date</th>\n",
       "      <th></th>\n",
       "      <th></th>\n",
       "      <th></th>\n",
       "      <th></th>\n",
       "      <th></th>\n",
       "      <th></th>\n",
       "      <th></th>\n",
       "    </tr>\n",
       "  </thead>\n",
       "  <tbody>\n",
       "    <tr>\n",
       "      <th>2015-10-21</th>\n",
       "      <td>25300.0</td>\n",
       "      <td>20610.984375</td>\n",
       "      <td>6978350</td>\n",
       "      <td>18684.263086</td>\n",
       "      <td>21065.873389</td>\n",
       "      <td>0</td>\n",
       "      <td>-1</td>\n",
       "    </tr>\n",
       "    <tr>\n",
       "      <th>2015-10-22</th>\n",
       "      <td>25600.0</td>\n",
       "      <td>20773.277344</td>\n",
       "      <td>11533650</td>\n",
       "      <td>18729.380156</td>\n",
       "      <td>21061.900566</td>\n",
       "      <td>0</td>\n",
       "      <td>-1</td>\n",
       "    </tr>\n",
       "    <tr>\n",
       "      <th>2015-10-23</th>\n",
       "      <td>26000.0</td>\n",
       "      <td>20919.345703</td>\n",
       "      <td>13153550</td>\n",
       "      <td>18772.225078</td>\n",
       "      <td>21058.414844</td>\n",
       "      <td>0</td>\n",
       "      <td>-1</td>\n",
       "    </tr>\n",
       "    <tr>\n",
       "      <th>2015-10-26</th>\n",
       "      <td>25960.0</td>\n",
       "      <td>20968.021484</td>\n",
       "      <td>7608250</td>\n",
       "      <td>18817.017305</td>\n",
       "      <td>21058.253613</td>\n",
       "      <td>0</td>\n",
       "      <td>-1</td>\n",
       "    </tr>\n",
       "    <tr>\n",
       "      <th>2015-10-27</th>\n",
       "      <td>25640.0</td>\n",
       "      <td>21065.402344</td>\n",
       "      <td>6612050</td>\n",
       "      <td>18868.301328</td>\n",
       "      <td>21057.606318</td>\n",
       "      <td>0</td>\n",
       "      <td>-1</td>\n",
       "    </tr>\n",
       "  </tbody>\n",
       "</table>\n",
       "</div>"
      ],
      "text/plain": [
       "               open     adj_close    volume      50DaySMA     200DaySMA  \\\n",
       "Date                                                                      \n",
       "2015-10-21  25300.0  20610.984375   6978350  18684.263086  21065.873389   \n",
       "2015-10-22  25600.0  20773.277344  11533650  18729.380156  21061.900566   \n",
       "2015-10-23  26000.0  20919.345703  13153550  18772.225078  21058.414844   \n",
       "2015-10-26  25960.0  20968.021484   7608250  18817.017305  21058.253613   \n",
       "2015-10-27  25640.0  21065.402344   6612050  18868.301328  21057.606318   \n",
       "\n",
       "            signal  stock_signal  \n",
       "Date                              \n",
       "2015-10-21       0            -1  \n",
       "2015-10-22       0            -1  \n",
       "2015-10-23       0            -1  \n",
       "2015-10-26       0            -1  \n",
       "2015-10-27       0            -1  "
      ]
     },
     "execution_count": 24,
     "metadata": {},
     "output_type": "execute_result"
    }
   ],
   "source": [
    "stocks_data_2.head()"
   ]
  },
  {
   "cell_type": "markdown",
   "id": "bfdef4b7",
   "metadata": {},
   "source": [
    "Plotting heat map to identify corelation between variables"
   ]
  },
  {
   "cell_type": "code",
   "execution_count": 25,
   "id": "ca26948a",
   "metadata": {
    "scrolled": true
   },
   "outputs": [
    {
     "data": {
      "image/png": "[encoded data removed]",
      "text/plain": [
       "<Figure size 1800x800 with 2 Axes>"
      ]
     },
     "metadata": {},
     "output_type": "display_data"
    }
   ],
   "source": [
    "plt.subplots(figsize = ([18,8]))\n",
    "sns.heatmap(stocks_data_2.corr(), annot=True, cmap=\"Greens\")\n",
    "plt.show()"
   ]
  },
  {
   "cell_type": "code",
   "execution_count": 26,
   "id": "bc9ba6d7",
   "metadata": {},
   "outputs": [
    {
     "name": "stdout",
     "output_type": "stream",
     "text": [
      "Train and test data shapes (1562, 4) , (391, 4)\n",
      "\n"
     ]
    }
   ],
   "source": [
    "feature_columns = ['open', 'adj_close', '50DaySMA','200DaySMA']\n",
    "dependent_column = ['signal']\n",
    "X_train, X_test, y_train, y_test  = split_data(stocks_data_2[feature_columns] , stocks_data_2[dependent_column])"
   ]
  },
  {
   "cell_type": "markdown",
   "id": "357a5bfa",
   "metadata": {},
   "source": [
    "Initilizing models"
   ]
  },
  {
   "cell_type": "code",
   "execution_count": 27,
   "id": "8a5ce08a",
   "metadata": {},
   "outputs": [],
   "source": [
    "random_forest_classifier , xg_boost_classifier , knn_classifier , gb_classifier,svm_classifier = initilize_classification_models()\n",
    "final_data_frame = pd.DataFrame()"
   ]
  },
  {
   "cell_type": "code",
   "execution_count": 28,
   "id": "0f02b8f1",
   "metadata": {},
   "outputs": [],
   "source": [
    "final_dataframe = pd.DataFrame()  \n",
    "final_dataframe = final_dataframe.append(evaluate_classification(random_forest_classifier,X_train, X_test, y_train, y_test ),ignore_index = True)\n",
    "final_dataframe = final_dataframe.append(evaluate_classification(xg_boost_classifier,X_train, X_test, y_train, y_test  ),ignore_index = True)\n",
    "final_dataframe = final_dataframe.append(evaluate_classification(knn_classifier,X_train, X_test, y_train, y_test  ),ignore_index = True)\n",
    "final_dataframe = final_dataframe.append(evaluate_classification(gb_classifier,X_train, X_test, y_train, y_test  ),ignore_index = True)\n",
    "final_dataframe = final_dataframe.append(evaluate_classification(svm_classifier,X_train, X_test, y_train, y_test  ),ignore_index = True)"
   ]
  },
  {
   "cell_type": "code",
   "execution_count": 29,
   "id": "975329d7",
   "metadata": {},
   "outputs": [
    {
     "data": {
      "text/html": [
       "<div>\n",
       "<style scoped>\n",
       "    .dataframe tbody tr th:only-of-type {\n",
       "        vertical-align: middle;\n",
       "    }\n",
       "\n",
       "    .dataframe tbody tr th {\n",
       "        vertical-align: top;\n",
       "    }\n",
       "\n",
       "    .dataframe thead th {\n",
       "        text-align: right;\n",
       "    }\n",
       "</style>\n",
       "<table border=\"1\" class=\"dataframe\">\n",
       "  <thead>\n",
       "    <tr style=\"text-align: right;\">\n",
       "      <th></th>\n",
       "      <th>Model</th>\n",
       "      <th>Accuracy</th>\n",
       "      <th>Recall</th>\n",
       "      <th>Precision</th>\n",
       "      <th>f1-score</th>\n",
       "    </tr>\n",
       "  </thead>\n",
       "  <tbody>\n",
       "    <tr>\n",
       "      <th>0</th>\n",
       "      <td>RandomForestClassifier</td>\n",
       "      <td>0.994885</td>\n",
       "      <td>0.994885</td>\n",
       "      <td>0.994885</td>\n",
       "      <td>0.994885</td>\n",
       "    </tr>\n",
       "    <tr>\n",
       "      <th>1</th>\n",
       "      <td>XGBClassifier</td>\n",
       "      <td>0.987212</td>\n",
       "      <td>0.987212</td>\n",
       "      <td>0.987212</td>\n",
       "      <td>0.987212</td>\n",
       "    </tr>\n",
       "    <tr>\n",
       "      <th>2</th>\n",
       "      <td>KNeighborsClassifier</td>\n",
       "      <td>0.974425</td>\n",
       "      <td>0.974425</td>\n",
       "      <td>0.974425</td>\n",
       "      <td>0.974425</td>\n",
       "    </tr>\n",
       "    <tr>\n",
       "      <th>3</th>\n",
       "      <td>GradientBoostingClassifier</td>\n",
       "      <td>0.984655</td>\n",
       "      <td>0.984655</td>\n",
       "      <td>0.984655</td>\n",
       "      <td>0.984655</td>\n",
       "    </tr>\n",
       "    <tr>\n",
       "      <th>4</th>\n",
       "      <td>SVC</td>\n",
       "      <td>0.936061</td>\n",
       "      <td>0.936061</td>\n",
       "      <td>0.936061</td>\n",
       "      <td>0.936061</td>\n",
       "    </tr>\n",
       "  </tbody>\n",
       "</table>\n",
       "</div>"
      ],
      "text/plain": [
       "                        Model  Accuracy    Recall  Precision  f1-score\n",
       "0      RandomForestClassifier  0.994885  0.994885   0.994885  0.994885\n",
       "1               XGBClassifier  0.987212  0.987212   0.987212  0.987212\n",
       "2        KNeighborsClassifier  0.974425  0.974425   0.974425  0.974425\n",
       "3  GradientBoostingClassifier  0.984655  0.984655   0.984655  0.984655\n",
       "4                         SVC  0.936061  0.936061   0.936061  0.936061"
      ]
     },
     "execution_count": 29,
     "metadata": {},
     "output_type": "execute_result"
    }
   ],
   "source": [
    "final_dataframe.head()"
   ]
  },
  {
   "cell_type": "markdown",
   "id": "5dac008e",
   "metadata": {},
   "source": [
    "From above data frame, We can identify XGB classifier is the best model among all other models followed by Gradient Boosting and Random forest classifier "
   ]
  },
  {
   "cell_type": "code",
   "execution_count": 30,
   "id": "52e26f6b",
   "metadata": {
    "scrolled": true
   },
   "outputs": [
    {
     "data": {
      "image/png": "[encoded data removed]",
      "text/plain": [
       "<Figure size 1200x600 with 1 Axes>"
      ]
     },
     "metadata": {},
     "output_type": "display_data"
    }
   ],
   "source": [
    "plt.figure(figsize=(12, 6))\n",
    "plt.plot(stocks_data_2['adj_close'], label='Close Price')\n",
    "plt.plot(stocks_data_2['50DaySMA'], label='50-day MA')\n",
    "plt.plot(stocks_data_2['200DaySMA'], label='200-day MA')\n",
    "plt.plot(stocks_data_2[stocks_data_2['signal'] == 1.0].index,\n",
    "         stocks_data_2['50DaySMA'][stocks_data_2['signal'] == 1.0],\n",
    "         '^', markersize=10, color='g', lw=0, label='Buy Signal')\n",
    "\n",
    "plt.plot(stocks_data_2[stocks_data_2['signal'] == 0.0].index,\n",
    "         stocks_data_2['200DaySMA'][stocks_data_2['signal'] == 0.0],\n",
    "         'v', markersize=10, color='r', lw=0, label='Sell Signal')\n",
    "\n",
    "plt.title('Samsung Stock Price with Golden Cross and Death Cross')\n",
    "plt.legend()\n",
    "plt.show()"
   ]
  },
  {
   "cell_type": "markdown",
   "id": "aa2eba11",
   "metadata": {},
   "source": [
    "From the above plot, We can check stocks of samsung are continously rising untill 2021, later it faced a slight downfall and got picked up in 2023. As per current day, They are doing great with profits."
   ]
  },
  {
   "cell_type": "markdown",
   "id": "e07b7038",
   "metadata": {},
   "source": [
    "# Hyper parameter Tuning"
   ]
  },
  {
   "cell_type": "code",
   "execution_count": 31,
   "id": "c2c98848",
   "metadata": {},
   "outputs": [
    {
     "name": "stdout",
     "output_type": "stream",
     "text": [
      "Fitting 5 folds for each of 25 candidates, totalling 125 fits\n"
     ]
    }
   ],
   "source": [
    "params = {'max_depth': [3, 6, 10, 15],\n",
    "              'learning_rate': [0.01, 0.1, 0.2, 0.3],\n",
    "              'subsample': np.arange(0.5, 1.0, 0.1),\n",
    "              'colsample_bytree': np.arange(0.5, 1.0, 0.1),\n",
    "              'colsample_bylevel': np.arange(0.5, 1.0, 0.1),\n",
    "              'n_estimators': [100, 250, 500, 750],\n",
    "              'num_class': [10]\n",
    "              }\n",
    "\n",
    "xgbclf = XGBClassifier(objective=\"multi:softmax\", tree_method='hist')\n",
    "clf = RandomizedSearchCV(estimator=xgbclf,\n",
    "                             param_distributions=params,\n",
    "                             scoring='accuracy',\n",
    "                             n_iter=25,\n",
    "                             n_jobs=4,\n",
    "                             verbose=1)\n",
    "\n",
    "clf.fit(X_train, y_train)\n",
    "\n",
    "\n",
    "xgBoostClassifier = clf.best_estimator_\n"
   ]
  },
  {
   "cell_type": "code",
   "execution_count": 32,
   "id": "e4c9c031",
   "metadata": {},
   "outputs": [],
   "source": [
    "final_dataframe = final_dataframe.append(evaluate_classification(xgBoostClassifier,X_train, X_test, y_train, y_test ),ignore_index = True)\n"
   ]
  },
  {
   "cell_type": "code",
   "execution_count": 33,
   "id": "ba8e53eb",
   "metadata": {},
   "outputs": [
    {
     "data": {
      "text/html": [
       "<div>\n",
       "<style scoped>\n",
       "    .dataframe tbody tr th:only-of-type {\n",
       "        vertical-align: middle;\n",
       "    }\n",
       "\n",
       "    .dataframe tbody tr th {\n",
       "        vertical-align: top;\n",
       "    }\n",
       "\n",
       "    .dataframe thead th {\n",
       "        text-align: right;\n",
       "    }\n",
       "</style>\n",
       "<table border=\"1\" class=\"dataframe\">\n",
       "  <thead>\n",
       "    <tr style=\"text-align: right;\">\n",
       "      <th></th>\n",
       "      <th>Model</th>\n",
       "      <th>Accuracy</th>\n",
       "      <th>Recall</th>\n",
       "      <th>Precision</th>\n",
       "      <th>f1-score</th>\n",
       "    </tr>\n",
       "  </thead>\n",
       "  <tbody>\n",
       "    <tr>\n",
       "      <th>0</th>\n",
       "      <td>RandomForestClassifier</td>\n",
       "      <td>0.994885</td>\n",
       "      <td>0.994885</td>\n",
       "      <td>0.994885</td>\n",
       "      <td>0.994885</td>\n",
       "    </tr>\n",
       "    <tr>\n",
       "      <th>1</th>\n",
       "      <td>XGBClassifier</td>\n",
       "      <td>0.987212</td>\n",
       "      <td>0.987212</td>\n",
       "      <td>0.987212</td>\n",
       "      <td>0.987212</td>\n",
       "    </tr>\n",
       "    <tr>\n",
       "      <th>2</th>\n",
       "      <td>KNeighborsClassifier</td>\n",
       "      <td>0.974425</td>\n",
       "      <td>0.974425</td>\n",
       "      <td>0.974425</td>\n",
       "      <td>0.974425</td>\n",
       "    </tr>\n",
       "    <tr>\n",
       "      <th>3</th>\n",
       "      <td>GradientBoostingClassifier</td>\n",
       "      <td>0.984655</td>\n",
       "      <td>0.984655</td>\n",
       "      <td>0.984655</td>\n",
       "      <td>0.984655</td>\n",
       "    </tr>\n",
       "    <tr>\n",
       "      <th>4</th>\n",
       "      <td>SVC</td>\n",
       "      <td>0.936061</td>\n",
       "      <td>0.936061</td>\n",
       "      <td>0.936061</td>\n",
       "      <td>0.936061</td>\n",
       "    </tr>\n",
       "    <tr>\n",
       "      <th>5</th>\n",
       "      <td>XGBClassifier</td>\n",
       "      <td>0.987212</td>\n",
       "      <td>0.987212</td>\n",
       "      <td>0.987212</td>\n",
       "      <td>0.987212</td>\n",
       "    </tr>\n",
       "  </tbody>\n",
       "</table>\n",
       "</div>"
      ],
      "text/plain": [
       "                        Model  Accuracy    Recall  Precision  f1-score\n",
       "0      RandomForestClassifier  0.994885  0.994885   0.994885  0.994885\n",
       "1               XGBClassifier  0.987212  0.987212   0.987212  0.987212\n",
       "2        KNeighborsClassifier  0.974425  0.974425   0.974425  0.974425\n",
       "3  GradientBoostingClassifier  0.984655  0.984655   0.984655  0.984655\n",
       "4                         SVC  0.936061  0.936061   0.936061  0.936061\n",
       "5               XGBClassifier  0.987212  0.987212   0.987212  0.987212"
      ]
     },
     "execution_count": 33,
     "metadata": {},
     "output_type": "execute_result"
    }
   ],
   "source": [
    "final_dataframe.head(10)"
   ]
  },
  {
   "cell_type": "code",
   "execution_count": 34,
   "id": "f2025289",
   "metadata": {},
   "outputs": [],
   "source": [
    "\n",
    "param_grid = {\n",
    "'n_estimators': [25, 50, 100, 150],\n",
    "'max_depth': [3, 6, 9],\n",
    "'max_leaf_nodes': [3, 6, 9],\n",
    "}\n",
    "\n",
    "grid_search = GridSearchCV(RandomForestClassifier(),param_grid=param_grid)\n",
    "grid_search.fit(X_train, y_train)\n",
    "randomForestTunedClassifier = grid_search.best_estimator_\n",
    "\n"
   ]
  },
  {
   "cell_type": "code",
   "execution_count": 35,
   "id": "3fd6271e",
   "metadata": {},
   "outputs": [],
   "source": [
    "final_dataframe = final_dataframe.append(evaluate_classification(randomForestTunedClassifier,X_train, X_test, y_train, y_test ),ignore_index = True)\n"
   ]
  },
  {
   "cell_type": "code",
   "execution_count": 36,
   "id": "3895529f",
   "metadata": {},
   "outputs": [
    {
     "data": {
      "text/html": [
       "<div>\n",
       "<style scoped>\n",
       "    .dataframe tbody tr th:only-of-type {\n",
       "        vertical-align: middle;\n",
       "    }\n",
       "\n",
       "    .dataframe tbody tr th {\n",
       "        vertical-align: top;\n",
       "    }\n",
       "\n",
       "    .dataframe thead th {\n",
       "        text-align: right;\n",
       "    }\n",
       "</style>\n",
       "<table border=\"1\" class=\"dataframe\">\n",
       "  <thead>\n",
       "    <tr style=\"text-align: right;\">\n",
       "      <th></th>\n",
       "      <th>Model</th>\n",
       "      <th>Accuracy</th>\n",
       "      <th>Recall</th>\n",
       "      <th>Precision</th>\n",
       "      <th>f1-score</th>\n",
       "    </tr>\n",
       "  </thead>\n",
       "  <tbody>\n",
       "    <tr>\n",
       "      <th>0</th>\n",
       "      <td>RandomForestClassifier</td>\n",
       "      <td>0.994885</td>\n",
       "      <td>0.994885</td>\n",
       "      <td>0.994885</td>\n",
       "      <td>0.994885</td>\n",
       "    </tr>\n",
       "    <tr>\n",
       "      <th>1</th>\n",
       "      <td>XGBClassifier</td>\n",
       "      <td>0.987212</td>\n",
       "      <td>0.987212</td>\n",
       "      <td>0.987212</td>\n",
       "      <td>0.987212</td>\n",
       "    </tr>\n",
       "    <tr>\n",
       "      <th>2</th>\n",
       "      <td>KNeighborsClassifier</td>\n",
       "      <td>0.974425</td>\n",
       "      <td>0.974425</td>\n",
       "      <td>0.974425</td>\n",
       "      <td>0.974425</td>\n",
       "    </tr>\n",
       "    <tr>\n",
       "      <th>3</th>\n",
       "      <td>GradientBoostingClassifier</td>\n",
       "      <td>0.984655</td>\n",
       "      <td>0.984655</td>\n",
       "      <td>0.984655</td>\n",
       "      <td>0.984655</td>\n",
       "    </tr>\n",
       "    <tr>\n",
       "      <th>4</th>\n",
       "      <td>SVC</td>\n",
       "      <td>0.936061</td>\n",
       "      <td>0.936061</td>\n",
       "      <td>0.936061</td>\n",
       "      <td>0.936061</td>\n",
       "    </tr>\n",
       "    <tr>\n",
       "      <th>5</th>\n",
       "      <td>XGBClassifier</td>\n",
       "      <td>0.987212</td>\n",
       "      <td>0.987212</td>\n",
       "      <td>0.987212</td>\n",
       "      <td>0.987212</td>\n",
       "    </tr>\n",
       "    <tr>\n",
       "      <th>6</th>\n",
       "      <td>RandomForestClassifier</td>\n",
       "      <td>0.941176</td>\n",
       "      <td>0.941176</td>\n",
       "      <td>0.941176</td>\n",
       "      <td>0.941176</td>\n",
       "    </tr>\n",
       "  </tbody>\n",
       "</table>\n",
       "</div>"
      ],
      "text/plain": [
       "                        Model  Accuracy    Recall  Precision  f1-score\n",
       "0      RandomForestClassifier  0.994885  0.994885   0.994885  0.994885\n",
       "1               XGBClassifier  0.987212  0.987212   0.987212  0.987212\n",
       "2        KNeighborsClassifier  0.974425  0.974425   0.974425  0.974425\n",
       "3  GradientBoostingClassifier  0.984655  0.984655   0.984655  0.984655\n",
       "4                         SVC  0.936061  0.936061   0.936061  0.936061\n",
       "5               XGBClassifier  0.987212  0.987212   0.987212  0.987212\n",
       "6      RandomForestClassifier  0.941176  0.941176   0.941176  0.941176"
      ]
     },
     "execution_count": 36,
     "metadata": {},
     "output_type": "execute_result"
    }
   ],
   "source": [
    "final_dataframe.head(10)"
   ]
  },
  {
   "cell_type": "markdown",
   "id": "c84d2aac",
   "metadata": {},
   "source": [
    "After implementing tuning on couple of models like Random forest and XGB classifier , We can identify not much significant raise in performance of models."
   ]
  },
  {
   "cell_type": "code",
   "execution_count": null,
   "id": "540fde82",
   "metadata": {},
   "outputs": [],
   "source": []
  }
 ],
 "metadata": {
  "kernelspec": {
   "display_name": "Python 3 (ipykernel)",
   "language": "python",
   "name": "python3"
  },
  "language_info": {
   "codemirror_mode": {
    "name": "ipython",
    "version": 3
   },
   "file_extension": ".py",
   "mimetype": "text/x-python",
   "name": "python",
   "nbconvert_exporter": "python",
   "pygments_lexer": "ipython3",
   "version": "3.11.1"
  }
 },
 "nbformat": 4,
 "nbformat_minor": 5
}
